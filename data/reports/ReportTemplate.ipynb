{
 "cells": [
  {
   "cell_type": "code",
   "execution_count": null,
   "id": "f70daedd-5d93-4347-ba65-524ce6a645dd",
   "metadata": {},
   "outputs": [],
   "source": [
    "import pandas as pd\n",
    "import json\n",
    "import requests"
   ]
  },
  {
   "cell_type": "code",
   "execution_count": null,
   "id": "9c926020-9b4b-4627-b2b2-d82b7dacfc2f",
   "metadata": {},
   "outputs": [],
   "source": [
    "pr_raw = pd.read_csv(\"https://ct20231211-staging.s3.amazonaws.com/pr.data.0.Current\", sep='\\t')\n",
    "population_raw = pd.DataFrame(requests.get(\"https://ct20231211-staging.s3.amazonaws.com/us-population.json\").json()['data'])"
   ]
  },
  {
   "cell_type": "code",
   "execution_count": null,
   "id": "64e4ee8b-c582-43ba-94c8-02e2b0727bc0",
   "metadata": {},
   "outputs": [],
   "source": [
    "population = pd.DataFrame()\n",
    "for column in population_raw:\n",
    "    column_data = population_raw[column]\n",
    "    if population_raw[column].dtype == \"object\":\n",
    "        column_data = column_data.str.strip()\n",
    "    if column.strip() in (\"Year\", \"ID Year\", \"Population\") :\n",
    "        column_data = pd.to_numeric(column_data)\n",
    "    population[column.strip().lower().replace(' ','_')] = column_data\n",
    "\n",
    "population.info()"
   ]
  },
  {
   "cell_type": "code",
   "execution_count": null,
   "id": "dd04ff07-1575-42f4-9f73-5ead97a481a8",
   "metadata": {},
   "outputs": [],
   "source": [
    "pr = pd.DataFrame()\n",
    "for column in pr_raw:\n",
    "    column_data = pr_raw[column]\n",
    "    if pr_raw[column].dtype == \"object\":\n",
    "        column_data = column_data.str.strip()\n",
    "    if column.strip() in (\"year\", \"value\") :\n",
    "        column_data = pd.to_numeric(column_data)\n",
    "    if column.strip() not in (\"footnote_codes\"):\n",
    "        pr[column.strip()] = column_data\n",
    "\n",
    "pr.info()"
   ]
  },
  {
   "cell_type": "code",
   "execution_count": null,
   "id": "b0c20834-0e4b-41fa-9465-7ee958dc86b6",
   "metadata": {},
   "outputs": [],
   "source": [
    "population"
   ]
  },
  {
   "cell_type": "code",
   "execution_count": null,
   "id": "ab80917e-b15a-45c6-965d-fd0c5013d43a",
   "metadata": {},
   "outputs": [],
   "source": [
    "pr"
   ]
  },
  {
   "cell_type": "code",
   "execution_count": null,
   "id": "4d8c9915-98ed-476b-b786-bbccceceb24d",
   "metadata": {},
   "outputs": [],
   "source": [
    "population_2013_2018 = population[(population['year'] >= 2013) & (population['year'] <= 2018)]['population']\n",
    "mean_population = population_2013_2018.mean()\n",
    "std_population = population_2013_2018.std()\n",
    "print(\"Mean US Population [2013-2018] = \", mean_population)\n",
    "print(\"Standard Deviation [2013-2018] = \", std_population)"
   ]
  },
  {
   "cell_type": "code",
   "execution_count": null,
   "id": "f29c730d-a38c-4d00-b22c-076014f4a97b",
   "metadata": {},
   "outputs": [],
   "source": [
    "pr_sum = pr.groupby(['series_id', 'year'])['value'].sum().reset_index()\n",
    "pr_best_year = pr_sum.loc[pr_sum.groupby('series_id')['value'].idxmax()].reset_index()\n",
    "print(\"Best year for each series:\")\n",
    "with pd.option_context('display.max_rows', None, 'display.max_columns', None):\n",
    "    display(pr_best_year)"
   ]
  },
  {
   "cell_type": "code",
   "execution_count": null,
   "id": "46a4d60e-8c3a-40af-9c45-91d55058a6e6",
   "metadata": {},
   "outputs": [],
   "source": [
    "pr_population = pd.merge(pr,population[['year','population']], on=\"year\", how=\"inner\")\n",
    "pr_population"
   ]
  },
  {
   "cell_type": "code",
   "execution_count": null,
   "id": "0391b535-0778-468c-9ce0-fb3fef540de9",
   "metadata": {},
   "outputs": [],
   "source": [
    "pr_population[(pr_population[\"series_id\"]==\"PRS30006032\") & (pr_population[\"period\"]==\"Q01\")]"
   ]
  }
 ],
 "metadata": {
  "kernelspec": {
   "display_name": "Python 3 (ipykernel)",
   "language": "python",
   "name": "python3"
  },
  "language_info": {
   "codemirror_mode": {
    "name": "ipython",
    "version": 3
   },
   "file_extension": ".py",
   "mimetype": "text/x-python",
   "name": "python",
   "nbconvert_exporter": "python",
   "pygments_lexer": "ipython3",
   "version": "3.11.7"
  }
 },
 "nbformat": 4,
 "nbformat_minor": 5
}
